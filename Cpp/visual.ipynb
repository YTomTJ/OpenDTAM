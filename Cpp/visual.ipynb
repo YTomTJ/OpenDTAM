{
 "cells": [
  {
   "cell_type": "code",
   "execution_count": 1,
   "metadata": {},
   "outputs": [
    {
     "name": "stdout",
     "output_type": "stream",
     "text": [
      "Jupyter environment detected. Enabling Open3D WebVisualizer.\n",
      "[Open3D INFO] WebRTC GUI backend enabled.\n",
      "[Open3D INFO] WebRTCWindowSystem: HTTP handshake server disabled.\n"
     ]
    }
   ],
   "source": [
    "import re\n",
    "import pcl\n",
    "import cv2\n",
    "import numpy as np\n",
    "import open3d as o3d\n",
    "from pathlib import Path\n",
    "from tqdm import tqdm\n",
    "from sklearn.decomposition import PCA\n",
    "from sklearn.preprocessing import normalize\n",
    "import matplotlib.pyplot as plt"
   ]
  },
  {
   "cell_type": "code",
   "execution_count": 44,
   "metadata": {},
   "outputs": [
    {
     "name": "stderr",
     "output_type": "stream",
     "text": [
      "600it [00:00, 48653.12it/s]\n"
     ]
    }
   ],
   "source": [
    "Ts = []\n",
    "L = sorted(list(Path(\"../Trajectory_30_seconds\").glob(\"scene_*.txt\")))\n",
    "for i, f in tqdm(enumerate(L)):\n",
    "    with open(f) as file:\n",
    "        line = file.readline() # cam_pos = [,,]';\n",
    "        tr = np.asarray([float(v) for v in re.findall(r\"([\\d\\.]+)\", line)])\n",
    "        t = np.eye(4)\n",
    "        t[:3, 3] = tr\n",
    "        Ts.append(t)\n"
   ]
  },
  {
   "cell_type": "code",
   "execution_count": 46,
   "metadata": {},
   "outputs": [
    {
     "name": "stderr",
     "output_type": "stream",
     "text": [
      "10it [00:00, 6841.14it/s]\n"
     ]
    }
   ],
   "source": [
    "axes = []\n",
    "for i, t in tqdm(enumerate(Ts[:10])):\n",
    "    ax = o3d.geometry.TriangleMesh.create_coordinate_frame(size=(len(Ts) - i) / len(Ts) * 2.0)\n",
    "    ax.transform(t)\n",
    "    axes.append(ax)\n",
    "o3d.visualization.draw_geometries(axes, width=640, height=480)"
   ]
  },
  {
   "cell_type": "code",
   "execution_count": 3,
   "metadata": {},
   "outputs": [],
   "source": [
    "T = np.eye(4)\n",
    "T[:3, :3] = [[0.998738900566, -0.04968549489448, 0.00725320768073],\n",
    "             [-0.00725319, -0.285692, -0.958294],\n",
    "             [0.0496855, 0.957033, -0.285692]]\n",
    "T[:3, 3] = [-108.7661460322336, 362.84468629, 407.7790355]"
   ]
  },
  {
   "cell_type": "code",
   "execution_count": 5,
   "metadata": {},
   "outputs": [
    {
     "data": {
      "text/plain": [
       "array([  91.00005729, -292.00026936,  464.99999746])"
      ]
     },
     "execution_count": 5,
     "metadata": {},
     "output_type": "execute_result"
    }
   ],
   "source": [
    "-T[:3, :3].T @ T[:3, 3]"
   ]
  },
  {
   "cell_type": "code",
   "execution_count": null,
   "metadata": {},
   "outputs": [],
   "source": []
  }
 ],
 "metadata": {
  "kernelspec": {
   "display_name": "Python 3.8.13 ('torch')",
   "language": "python",
   "name": "python3"
  },
  "language_info": {
   "codemirror_mode": {
    "name": "ipython",
    "version": 3
   },
   "file_extension": ".py",
   "mimetype": "text/x-python",
   "name": "python",
   "nbconvert_exporter": "python",
   "pygments_lexer": "ipython3",
   "version": "3.8.13"
  },
  "orig_nbformat": 4,
  "vscode": {
   "interpreter": {
    "hash": "7288f315087fdb0a15835a979a50c8db3e0e21492381bafafe9d84f995bbb7dd"
   }
  }
 },
 "nbformat": 4,
 "nbformat_minor": 2
}
